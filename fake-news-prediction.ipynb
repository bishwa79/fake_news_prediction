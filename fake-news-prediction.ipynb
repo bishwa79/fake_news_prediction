{
 "cells": [
  {
   "cell_type": "markdown",
   "id": "7d5cda57",
   "metadata": {
    "papermill": {
     "duration": 0.01265,
     "end_time": "2023-11-18T12:42:02.876644",
     "exception": false,
     "start_time": "2023-11-18T12:42:02.863994",
     "status": "completed"
    },
    "tags": []
   },
   "source": [
    "# Project Overview: Fake News Detection\n",
    "The Fake News Detection project aims to develop a machine learning model capable of identifying and classifying news articles as either authentic or misleading. With the rise of misinformation, this project holds significance in promoting information integrity and aiding users in making informed decisions."
   ]
  },
  {
   "cell_type": "markdown",
   "id": "678ac416",
   "metadata": {
    "papermill": {
     "duration": 0.012003,
     "end_time": "2023-11-18T12:42:02.901108",
     "exception": false,
     "start_time": "2023-11-18T12:42:02.889105",
     "status": "completed"
    },
    "tags": []
   },
   "source": [
    "# Importing Dependencies¶"
   ]
  },
  {
   "cell_type": "code",
   "execution_count": 1,
   "id": "58ca6cd4",
   "metadata": {
    "execution": {
     "iopub.execute_input": "2023-11-18T12:42:02.927598Z",
     "iopub.status.busy": "2023-11-18T12:42:02.927158Z",
     "iopub.status.idle": "2023-11-18T12:42:06.009135Z",
     "shell.execute_reply": "2023-11-18T12:42:06.007969Z"
    },
    "papermill": {
     "duration": 3.098842,
     "end_time": "2023-11-18T12:42:06.012302",
     "exception": false,
     "start_time": "2023-11-18T12:42:02.913460",
     "status": "completed"
    },
    "tags": []
   },
   "outputs": [],
   "source": [
    "import numpy as np\n",
    "import pandas as pd\n",
    "import re   #Regular expressions(re) provide a powerful and flexible way to work with text, allowing you to define complex patterns for searching, matching, and manipulating strings.\n",
    "from nltk.corpus import stopwords\n",
    "from nltk.stem.porter import PorterStemmer\n",
    "from sklearn.feature_extraction.text import TfidfVectorizer\n",
    "from sklearn.model_selection import train_test_split\n",
    "from sklearn.linear_model import LogisticRegression\n",
    "from sklearn.ensemble import RandomForestClassifier\n",
    "from sklearn.metrics import accuracy_score,confusion_matrix, classification_report"
   ]
  },
  {
   "cell_type": "code",
   "execution_count": 2,
   "id": "78fccd1e",
   "metadata": {
    "execution": {
     "iopub.execute_input": "2023-11-18T12:42:06.039517Z",
     "iopub.status.busy": "2023-11-18T12:42:06.038593Z",
     "iopub.status.idle": "2023-11-18T12:42:06.126519Z",
     "shell.execute_reply": "2023-11-18T12:42:06.125283Z"
    },
    "papermill": {
     "duration": 0.104257,
     "end_time": "2023-11-18T12:42:06.129018",
     "exception": false,
     "start_time": "2023-11-18T12:42:06.024761",
     "status": "completed"
    },
    "tags": []
   },
   "outputs": [
    {
     "name": "stdout",
     "output_type": "stream",
     "text": [
      "[nltk_data] Downloading package stopwords to /usr/share/nltk_data...\n",
      "[nltk_data]   Package stopwords is already up-to-date!\n"
     ]
    },
    {
     "data": {
      "text/plain": [
       "True"
      ]
     },
     "execution_count": 2,
     "metadata": {},
     "output_type": "execute_result"
    }
   ],
   "source": [
    "import nltk\n",
    "nltk.download('stopwords')"
   ]
  },
  {
   "cell_type": "code",
   "execution_count": 3,
   "id": "056f9e36",
   "metadata": {
    "execution": {
     "iopub.execute_input": "2023-11-18T12:42:06.156535Z",
     "iopub.status.busy": "2023-11-18T12:42:06.156053Z",
     "iopub.status.idle": "2023-11-18T12:42:06.165273Z",
     "shell.execute_reply": "2023-11-18T12:42:06.163990Z"
    },
    "papermill": {
     "duration": 0.026026,
     "end_time": "2023-11-18T12:42:06.167802",
     "exception": false,
     "start_time": "2023-11-18T12:42:06.141776",
     "status": "completed"
    },
    "tags": []
   },
   "outputs": [
    {
     "name": "stdout",
     "output_type": "stream",
     "text": [
      "['i', 'me', 'my', 'myself', 'we', 'our', 'ours', 'ourselves', 'you', \"you're\", \"you've\", \"you'll\", \"you'd\", 'your', 'yours', 'yourself', 'yourselves', 'he', 'him', 'his', 'himself', 'she', \"she's\", 'her', 'hers', 'herself', 'it', \"it's\", 'its', 'itself', 'they', 'them', 'their', 'theirs', 'themselves', 'what', 'which', 'who', 'whom', 'this', 'that', \"that'll\", 'these', 'those', 'am', 'is', 'are', 'was', 'were', 'be', 'been', 'being', 'have', 'has', 'had', 'having', 'do', 'does', 'did', 'doing', 'a', 'an', 'the', 'and', 'but', 'if', 'or', 'because', 'as', 'until', 'while', 'of', 'at', 'by', 'for', 'with', 'about', 'against', 'between', 'into', 'through', 'during', 'before', 'after', 'above', 'below', 'to', 'from', 'up', 'down', 'in', 'out', 'on', 'off', 'over', 'under', 'again', 'further', 'then', 'once', 'here', 'there', 'when', 'where', 'why', 'how', 'all', 'any', 'both', 'each', 'few', 'more', 'most', 'other', 'some', 'such', 'no', 'nor', 'not', 'only', 'own', 'same', 'so', 'than', 'too', 'very', 's', 't', 'can', 'will', 'just', 'don', \"don't\", 'should', \"should've\", 'now', 'd', 'll', 'm', 'o', 're', 've', 'y', 'ain', 'aren', \"aren't\", 'couldn', \"couldn't\", 'didn', \"didn't\", 'doesn', \"doesn't\", 'hadn', \"hadn't\", 'hasn', \"hasn't\", 'haven', \"haven't\", 'isn', \"isn't\", 'ma', 'mightn', \"mightn't\", 'mustn', \"mustn't\", 'needn', \"needn't\", 'shan', \"shan't\", 'shouldn', \"shouldn't\", 'wasn', \"wasn't\", 'weren', \"weren't\", 'won', \"won't\", 'wouldn', \"wouldn't\"]\n"
     ]
    }
   ],
   "source": [
    "# printing the stopwords in English\n",
    "print(stopwords.words('english'))"
   ]
  },
  {
   "cell_type": "markdown",
   "id": "82301b2b",
   "metadata": {
    "papermill": {
     "duration": 0.012204,
     "end_time": "2023-11-18T12:42:06.192809",
     "exception": false,
     "start_time": "2023-11-18T12:42:06.180605",
     "status": "completed"
    },
    "tags": []
   },
   "source": [
    "# Data gathering"
   ]
  },
  {
   "cell_type": "code",
   "execution_count": 4,
   "id": "8eedd332",
   "metadata": {
    "execution": {
     "iopub.execute_input": "2023-11-18T12:42:06.220681Z",
     "iopub.status.busy": "2023-11-18T12:42:06.219318Z",
     "iopub.status.idle": "2023-11-18T12:42:09.206241Z",
     "shell.execute_reply": "2023-11-18T12:42:09.205231Z"
    },
    "papermill": {
     "duration": 3.00398,
     "end_time": "2023-11-18T12:42:09.209239",
     "exception": false,
     "start_time": "2023-11-18T12:42:06.205259",
     "status": "completed"
    },
    "tags": []
   },
   "outputs": [
    {
     "data": {
      "text/html": [
       "<div>\n",
       "<style scoped>\n",
       "    .dataframe tbody tr th:only-of-type {\n",
       "        vertical-align: middle;\n",
       "    }\n",
       "\n",
       "    .dataframe tbody tr th {\n",
       "        vertical-align: top;\n",
       "    }\n",
       "\n",
       "    .dataframe thead th {\n",
       "        text-align: right;\n",
       "    }\n",
       "</style>\n",
       "<table border=\"1\" class=\"dataframe\">\n",
       "  <thead>\n",
       "    <tr style=\"text-align: right;\">\n",
       "      <th></th>\n",
       "      <th>id</th>\n",
       "      <th>title</th>\n",
       "      <th>author</th>\n",
       "      <th>text</th>\n",
       "      <th>label</th>\n",
       "    </tr>\n",
       "  </thead>\n",
       "  <tbody>\n",
       "    <tr>\n",
       "      <th>0</th>\n",
       "      <td>0</td>\n",
       "      <td>House Dem Aide: We Didn’t Even See Comey’s Let...</td>\n",
       "      <td>Darrell Lucus</td>\n",
       "      <td>House Dem Aide: We Didn’t Even See Comey’s Let...</td>\n",
       "      <td>1</td>\n",
       "    </tr>\n",
       "    <tr>\n",
       "      <th>1</th>\n",
       "      <td>1</td>\n",
       "      <td>FLYNN: Hillary Clinton, Big Woman on Campus - ...</td>\n",
       "      <td>Daniel J. Flynn</td>\n",
       "      <td>Ever get the feeling your life circles the rou...</td>\n",
       "      <td>0</td>\n",
       "    </tr>\n",
       "    <tr>\n",
       "      <th>2</th>\n",
       "      <td>2</td>\n",
       "      <td>Why the Truth Might Get You Fired</td>\n",
       "      <td>Consortiumnews.com</td>\n",
       "      <td>Why the Truth Might Get You Fired October 29, ...</td>\n",
       "      <td>1</td>\n",
       "    </tr>\n",
       "    <tr>\n",
       "      <th>3</th>\n",
       "      <td>3</td>\n",
       "      <td>15 Civilians Killed In Single US Airstrike Hav...</td>\n",
       "      <td>Jessica Purkiss</td>\n",
       "      <td>Videos 15 Civilians Killed In Single US Airstr...</td>\n",
       "      <td>1</td>\n",
       "    </tr>\n",
       "    <tr>\n",
       "      <th>4</th>\n",
       "      <td>4</td>\n",
       "      <td>Iranian woman jailed for fictional unpublished...</td>\n",
       "      <td>Howard Portnoy</td>\n",
       "      <td>Print \\nAn Iranian woman has been sentenced to...</td>\n",
       "      <td>1</td>\n",
       "    </tr>\n",
       "  </tbody>\n",
       "</table>\n",
       "</div>"
      ],
      "text/plain": [
       "   id                                              title              author  \\\n",
       "0   0  House Dem Aide: We Didn’t Even See Comey’s Let...       Darrell Lucus   \n",
       "1   1  FLYNN: Hillary Clinton, Big Woman on Campus - ...     Daniel J. Flynn   \n",
       "2   2                  Why the Truth Might Get You Fired  Consortiumnews.com   \n",
       "3   3  15 Civilians Killed In Single US Airstrike Hav...     Jessica Purkiss   \n",
       "4   4  Iranian woman jailed for fictional unpublished...      Howard Portnoy   \n",
       "\n",
       "                                                text  label  \n",
       "0  House Dem Aide: We Didn’t Even See Comey’s Let...      1  \n",
       "1  Ever get the feeling your life circles the rou...      0  \n",
       "2  Why the Truth Might Get You Fired October 29, ...      1  \n",
       "3  Videos 15 Civilians Killed In Single US Airstr...      1  \n",
       "4  Print \\nAn Iranian woman has been sentenced to...      1  "
      ]
     },
     "execution_count": 4,
     "metadata": {},
     "output_type": "execute_result"
    }
   ],
   "source": [
    "df = pd.read_csv('/kaggle/input/fake-news/fake_news.csv')\n",
    "df.head()"
   ]
  },
  {
   "cell_type": "markdown",
   "id": "36f7584f",
   "metadata": {
    "papermill": {
     "duration": 0.01523,
     "end_time": "2023-11-18T12:42:09.240851",
     "exception": false,
     "start_time": "2023-11-18T12:42:09.225621",
     "status": "completed"
    },
    "tags": []
   },
   "source": [
    "The dataset contain 4 inputs and 1 output colns\n",
    "Our main agenda of the project is to predict whether the news is fake or not\n",
    "> **input colns :**\n",
    "* > id: unique id for a news article\n",
    "* > title: the title of a news article\n",
    "* > author: author of the news article\n",
    "* > text: the text of the article; could be incomplete\n",
    "\n",
    "> **output coln :**\n",
    "> label: a label that marks whether the news article is real or fake:\n",
    "* >     1: Fake news\n",
    "* >     0: real News"
   ]
  },
  {
   "cell_type": "markdown",
   "id": "420b019f",
   "metadata": {
    "papermill": {
     "duration": 0.012395,
     "end_time": "2023-11-18T12:42:09.266445",
     "exception": false,
     "start_time": "2023-11-18T12:42:09.254050",
     "status": "completed"
    },
    "tags": []
   },
   "source": [
    "# Data analysis & Data pre processing"
   ]
  },
  {
   "cell_type": "code",
   "execution_count": 5,
   "id": "a5bd1a6a",
   "metadata": {
    "execution": {
     "iopub.execute_input": "2023-11-18T12:42:09.293723Z",
     "iopub.status.busy": "2023-11-18T12:42:09.293255Z",
     "iopub.status.idle": "2023-11-18T12:42:09.300736Z",
     "shell.execute_reply": "2023-11-18T12:42:09.299544Z"
    },
    "papermill": {
     "duration": 0.023978,
     "end_time": "2023-11-18T12:42:09.303264",
     "exception": false,
     "start_time": "2023-11-18T12:42:09.279286",
     "status": "completed"
    },
    "tags": []
   },
   "outputs": [
    {
     "data": {
      "text/plain": [
       "(20800, 5)"
      ]
     },
     "execution_count": 5,
     "metadata": {},
     "output_type": "execute_result"
    }
   ],
   "source": [
    "df.shape"
   ]
  },
  {
   "cell_type": "code",
   "execution_count": 6,
   "id": "8f7bd0ab",
   "metadata": {
    "execution": {
     "iopub.execute_input": "2023-11-18T12:42:09.333323Z",
     "iopub.status.busy": "2023-11-18T12:42:09.332312Z",
     "iopub.status.idle": "2023-11-18T12:42:09.379769Z",
     "shell.execute_reply": "2023-11-18T12:42:09.378186Z"
    },
    "papermill": {
     "duration": 0.06525,
     "end_time": "2023-11-18T12:42:09.382409",
     "exception": false,
     "start_time": "2023-11-18T12:42:09.317159",
     "status": "completed"
    },
    "tags": []
   },
   "outputs": [
    {
     "name": "stdout",
     "output_type": "stream",
     "text": [
      "<class 'pandas.core.frame.DataFrame'>\n",
      "RangeIndex: 20800 entries, 0 to 20799\n",
      "Data columns (total 5 columns):\n",
      " #   Column  Non-Null Count  Dtype \n",
      "---  ------  --------------  ----- \n",
      " 0   id      20800 non-null  int64 \n",
      " 1   title   20242 non-null  object\n",
      " 2   author  18843 non-null  object\n",
      " 3   text    20761 non-null  object\n",
      " 4   label   20800 non-null  int64 \n",
      "dtypes: int64(2), object(3)\n",
      "memory usage: 812.6+ KB\n"
     ]
    }
   ],
   "source": [
    "df.info()"
   ]
  },
  {
   "cell_type": "code",
   "execution_count": 7,
   "id": "62e166f2",
   "metadata": {
    "execution": {
     "iopub.execute_input": "2023-11-18T12:42:09.411637Z",
     "iopub.status.busy": "2023-11-18T12:42:09.410543Z",
     "iopub.status.idle": "2023-11-18T12:42:09.419290Z",
     "shell.execute_reply": "2023-11-18T12:42:09.418276Z"
    },
    "papermill": {
     "duration": 0.025704,
     "end_time": "2023-11-18T12:42:09.421561",
     "exception": false,
     "start_time": "2023-11-18T12:42:09.395857",
     "status": "completed"
    },
    "tags": []
   },
   "outputs": [
    {
     "data": {
      "text/plain": [
       "label\n",
       "1    10413\n",
       "0    10387\n",
       "Name: count, dtype: int64"
      ]
     },
     "execution_count": 7,
     "metadata": {},
     "output_type": "execute_result"
    }
   ],
   "source": [
    "df['label'].value_counts()    #to check whether its imbalanced or not"
   ]
  },
  {
   "cell_type": "code",
   "execution_count": 8,
   "id": "ff2348fa",
   "metadata": {
    "execution": {
     "iopub.execute_input": "2023-11-18T12:42:09.451218Z",
     "iopub.status.busy": "2023-11-18T12:42:09.450226Z",
     "iopub.status.idle": "2023-11-18T12:42:09.469078Z",
     "shell.execute_reply": "2023-11-18T12:42:09.467710Z"
    },
    "papermill": {
     "duration": 0.036279,
     "end_time": "2023-11-18T12:42:09.471729",
     "exception": false,
     "start_time": "2023-11-18T12:42:09.435450",
     "status": "completed"
    },
    "tags": []
   },
   "outputs": [
    {
     "data": {
      "text/plain": [
       "id           0\n",
       "title      558\n",
       "author    1957\n",
       "text        39\n",
       "label        0\n",
       "dtype: int64"
      ]
     },
     "execution_count": 8,
     "metadata": {},
     "output_type": "execute_result"
    }
   ],
   "source": [
    "# checking the null values\n",
    "df.isnull().sum()"
   ]
  },
  {
   "cell_type": "code",
   "execution_count": 9,
   "id": "6997e700",
   "metadata": {
    "execution": {
     "iopub.execute_input": "2023-11-18T12:42:09.501133Z",
     "iopub.status.busy": "2023-11-18T12:42:09.500620Z",
     "iopub.status.idle": "2023-11-18T12:42:09.520041Z",
     "shell.execute_reply": "2023-11-18T12:42:09.519121Z"
    },
    "papermill": {
     "duration": 0.037439,
     "end_time": "2023-11-18T12:42:09.522606",
     "exception": false,
     "start_time": "2023-11-18T12:42:09.485167",
     "status": "completed"
    },
    "tags": []
   },
   "outputs": [],
   "source": [
    "# its difficult to fill the null values with actual text, so filling the null values with empty string\n",
    "df = df.fillna('')"
   ]
  },
  {
   "cell_type": "code",
   "execution_count": 10,
   "id": "820a21c1",
   "metadata": {
    "execution": {
     "iopub.execute_input": "2023-11-18T12:42:09.551753Z",
     "iopub.status.busy": "2023-11-18T12:42:09.551311Z",
     "iopub.status.idle": "2023-11-18T12:42:09.569798Z",
     "shell.execute_reply": "2023-11-18T12:42:09.568522Z"
    },
    "papermill": {
     "duration": 0.036436,
     "end_time": "2023-11-18T12:42:09.572593",
     "exception": false,
     "start_time": "2023-11-18T12:42:09.536157",
     "status": "completed"
    },
    "tags": []
   },
   "outputs": [
    {
     "data": {
      "text/plain": [
       "id        0\n",
       "title     0\n",
       "author    0\n",
       "text      0\n",
       "label     0\n",
       "dtype: int64"
      ]
     },
     "execution_count": 10,
     "metadata": {},
     "output_type": "execute_result"
    }
   ],
   "source": [
    "df.isnull().sum()  #now no null values is there"
   ]
  },
  {
   "cell_type": "code",
   "execution_count": 11,
   "id": "26722e76",
   "metadata": {
    "execution": {
     "iopub.execute_input": "2023-11-18T12:42:09.604126Z",
     "iopub.status.busy": "2023-11-18T12:42:09.603415Z",
     "iopub.status.idle": "2023-11-18T12:42:09.616405Z",
     "shell.execute_reply": "2023-11-18T12:42:09.615361Z"
    },
    "papermill": {
     "duration": 0.030902,
     "end_time": "2023-11-18T12:42:09.619109",
     "exception": false,
     "start_time": "2023-11-18T12:42:09.588207",
     "status": "completed"
    },
    "tags": []
   },
   "outputs": [],
   "source": [
    "# merging the title & author coln\n",
    "df['content'] = df['title'] + df['author']"
   ]
  },
  {
   "cell_type": "code",
   "execution_count": 12,
   "id": "469e9fa2",
   "metadata": {
    "execution": {
     "iopub.execute_input": "2023-11-18T12:42:09.648573Z",
     "iopub.status.busy": "2023-11-18T12:42:09.648128Z",
     "iopub.status.idle": "2023-11-18T12:42:09.655765Z",
     "shell.execute_reply": "2023-11-18T12:42:09.654454Z"
    },
    "papermill": {
     "duration": 0.025862,
     "end_time": "2023-11-18T12:42:09.658740",
     "exception": false,
     "start_time": "2023-11-18T12:42:09.632878",
     "status": "completed"
    },
    "tags": []
   },
   "outputs": [
    {
     "name": "stdout",
     "output_type": "stream",
     "text": [
      "0        House Dem Aide: We Didn’t Even See Comey’s Let...\n",
      "1        FLYNN: Hillary Clinton, Big Woman on Campus - ...\n",
      "2        Why the Truth Might Get You FiredConsortiumnew...\n",
      "3        15 Civilians Killed In Single US Airstrike Hav...\n",
      "4        Iranian woman jailed for fictional unpublished...\n",
      "                               ...                        \n",
      "20795    Rapper T.I.: Trump a ’Poster Child For White S...\n",
      "20796    N.F.L. Playoffs: Schedule, Matchups and Odds -...\n",
      "20797    Macy’s Is Said to Receive Takeover Approach by...\n",
      "20798    NATO, Russia To Hold Parallel Exercises In Bal...\n",
      "20799               What Keeps the F-35 AliveDavid Swanson\n",
      "Name: content, Length: 20800, dtype: object\n"
     ]
    }
   ],
   "source": [
    "print(df['content'])"
   ]
  },
  {
   "cell_type": "markdown",
   "id": "a7c49890",
   "metadata": {
    "papermill": {
     "duration": 0.013412,
     "end_time": "2023-11-18T12:42:09.685955",
     "exception": false,
     "start_time": "2023-11-18T12:42:09.672543",
     "status": "completed"
    },
    "tags": []
   },
   "source": [
    "**Data processing on 'content' coln**"
   ]
  },
  {
   "cell_type": "code",
   "execution_count": 13,
   "id": "c6e1b693",
   "metadata": {
    "execution": {
     "iopub.execute_input": "2023-11-18T12:42:09.716386Z",
     "iopub.status.busy": "2023-11-18T12:42:09.715376Z",
     "iopub.status.idle": "2023-11-18T12:42:09.720518Z",
     "shell.execute_reply": "2023-11-18T12:42:09.719589Z"
    },
    "papermill": {
     "duration": 0.023126,
     "end_time": "2023-11-18T12:42:09.722922",
     "exception": false,
     "start_time": "2023-11-18T12:42:09.699796",
     "status": "completed"
    },
    "tags": []
   },
   "outputs": [],
   "source": [
    "port_stem = PorterStemmer()"
   ]
  },
  {
   "cell_type": "code",
   "execution_count": 14,
   "id": "b1289a61",
   "metadata": {
    "execution": {
     "iopub.execute_input": "2023-11-18T12:42:09.753349Z",
     "iopub.status.busy": "2023-11-18T12:42:09.752644Z",
     "iopub.status.idle": "2023-11-18T12:42:09.758982Z",
     "shell.execute_reply": "2023-11-18T12:42:09.758167Z"
    },
    "papermill": {
     "duration": 0.024537,
     "end_time": "2023-11-18T12:42:09.761417",
     "exception": false,
     "start_time": "2023-11-18T12:42:09.736880",
     "status": "completed"
    },
    "tags": []
   },
   "outputs": [],
   "source": [
    "def stemming(content):\n",
    "    stemmed_content = re.sub('[^a-zA-Z]',' ',content)   #replacing any character in the variable content that is not a lowercase or uppercase letter with a space. \n",
    "    stemmed_content = stemmed_content.lower()           #converting all the characters in the string variable stemmed_content to lowercase.\n",
    "    stemmed_content = stemmed_content.split()           #splitting the string variable stemmed_content into a list of words\n",
    "    stemmed_content = [port_stem.stem(word) for word in stemmed_content if not word in stopwords.words('english')]  #In summary, this line of code creates a new list (stemmed_content) where each word from the original list is stemmed using the Porter stemming algorithm, and stopwords are excluded from the new list. This is a common preprocessing step in natural language processing (NLP) tasks.\n",
    "    stemmed_content = ' '.join(stemmed_content)  #The resulting stemmed_content would be a space-separated string of processed words.\n",
    "    return stemmed_content"
   ]
  },
  {
   "cell_type": "code",
   "execution_count": 15,
   "id": "4b32c8f8",
   "metadata": {
    "execution": {
     "iopub.execute_input": "2023-11-18T12:42:09.791728Z",
     "iopub.status.busy": "2023-11-18T12:42:09.791004Z",
     "iopub.status.idle": "2023-11-18T12:42:57.890576Z",
     "shell.execute_reply": "2023-11-18T12:42:57.889359Z"
    },
    "papermill": {
     "duration": 48.194714,
     "end_time": "2023-11-18T12:42:57.970293",
     "exception": false,
     "start_time": "2023-11-18T12:42:09.775579",
     "status": "completed"
    },
    "tags": []
   },
   "outputs": [
    {
     "name": "stdout",
     "output_type": "stream",
     "text": [
      "0        hous dem aid even see comey letter jason chaff...\n",
      "1        flynn hillari clinton big woman campu breitbar...\n",
      "2                   truth might get firedconsortiumnew com\n",
      "3        civilian kill singl us airstrik identifiedjess...\n",
      "4        iranian woman jail fiction unpublish stori wom...\n",
      "                               ...                        \n",
      "20795    rapper trump poster child white supremaci jero...\n",
      "20796    n f l playoff schedul matchup odd new york tim...\n",
      "20797    maci said receiv takeov approach hudson bay ne...\n",
      "20798    nato russia hold parallel exercis balkansalex ...\n",
      "20799                            keep f alivedavid swanson\n",
      "Name: content, Length: 20800, dtype: object\n"
     ]
    }
   ],
   "source": [
    "df['content'] = df['content'].apply(stemming)\n",
    "print(df['content'])"
   ]
  },
  {
   "cell_type": "markdown",
   "id": "acdd1565",
   "metadata": {
    "papermill": {
     "duration": 0.013678,
     "end_time": "2023-11-18T12:42:57.997794",
     "exception": false,
     "start_time": "2023-11-18T12:42:57.984116",
     "status": "completed"
    },
    "tags": []
   },
   "source": [
    "Let's go through each step and discuss the types of variables involved:\n",
    "\n",
    "> Function Definition:\n",
    "\n",
    " def stemming(content):\n",
    "\n",
    "> Variable Type: content\n",
    "\n",
    "> Explanation: content is assumed to be a string representing the text content that needs to be processed.\n",
    "\n",
    "\n",
    "Removing Non-Alphabetic Characters:\n",
    "\n",
    ">stemmed_content = re.sub('[^a-zA-Z]',' ', content)\n",
    "\n",
    ">Variable Type: content, stemmed_content\n",
    "\n",
    ">Explanation: content is a string. stemmed_content is a string with non-alphabetic characters replaced by spaces.\n",
    "\n",
    "\n",
    "Lowercasing:\n",
    "> stemmed_content = stemmed_content.lower()\n",
    "\n",
    "> Variable Type: stemmed_content\n",
    "\n",
    "> Explanation: stemmed_content is a string. The operation converts it to lowercase.\n",
    "\n",
    "\n",
    "Tokenization (Splitting into Words):\n",
    "> stemmed_content = stemmed_content.split()\n",
    "\n",
    "> Variable Type: stemmed_content\n",
    "\n",
    "> Explanation: stemmed_content is now a list of words.\n",
    "\n",
    "\n",
    "Stemming:\n",
    "> stemmed_content = [port_stem.stem(word) for word in stemmed_content if not word in stopwords.words('english')]\n",
    "\n",
    "> Variable Type: stemmed_content\n",
    "\n",
    "> Explanation: stemmed_content is still a list, but now it contains stemmed words. The list comprehension filters out stopwords.\n",
    "\n",
    "\n",
    "Joining Words Back into a String:\n",
    "> stemmed_content = ' '.join(stemmed_content)\n",
    "\n",
    "> Variable Type: stemmed_content\n",
    "\n",
    "> Explanation: stemmed_content is now a string again, with stemmed words joined by spaces.\n",
    "\n",
    "\n",
    "Applying the Function to the 'content' Column:\n",
    "> news_dataset['content'] = news_dataset['content'].apply(stemming)\n",
    "\n",
    "> Variable Type: DataFrame column ('content')\n",
    "\n",
    "> Explanation: The 'content' column is assumed to be a column of strings in the news_dataset DataFrame. The apply function applies the stemming function to each element in this column.\n",
    "\n",
    "In summary, the variable content starts as a string, goes through various transformations, and ends up as a processed string after stemming, suitable for natural language processing tasks. The operations involve strings, lists, and DataFrames, and the variable types are adjusted accordingly at each step.\n",
    "\n",
    "\n",
    "\n",
    "\n",
    "\n"
   ]
  },
  {
   "cell_type": "code",
   "execution_count": 16,
   "id": "68737411",
   "metadata": {
    "execution": {
     "iopub.execute_input": "2023-11-18T12:42:58.027810Z",
     "iopub.status.busy": "2023-11-18T12:42:58.027414Z",
     "iopub.status.idle": "2023-11-18T12:42:58.035771Z",
     "shell.execute_reply": "2023-11-18T12:42:58.034704Z"
    },
    "papermill": {
     "duration": 0.027122,
     "end_time": "2023-11-18T12:42:58.039004",
     "exception": false,
     "start_time": "2023-11-18T12:42:58.011882",
     "status": "completed"
    },
    "tags": []
   },
   "outputs": [
    {
     "name": "stdout",
     "output_type": "stream",
     "text": [
      "0        hous dem aid even see comey letter jason chaff...\n",
      "1        flynn hillari clinton big woman campu breitbar...\n",
      "2                   truth might get firedconsortiumnew com\n",
      "3        civilian kill singl us airstrik identifiedjess...\n",
      "4        iranian woman jail fiction unpublish stori wom...\n",
      "                               ...                        \n",
      "20795    rapper trump poster child white supremaci jero...\n",
      "20796    n f l playoff schedul matchup odd new york tim...\n",
      "20797    maci said receiv takeov approach hudson bay ne...\n",
      "20798    nato russia hold parallel exercis balkansalex ...\n",
      "20799                            keep f alivedavid swanson\n",
      "Name: content, Length: 20800, dtype: object\n",
      "0        1\n",
      "1        0\n",
      "2        1\n",
      "3        1\n",
      "4        1\n",
      "        ..\n",
      "20795    0\n",
      "20796    0\n",
      "20797    0\n",
      "20798    1\n",
      "20799    1\n",
      "Name: label, Length: 20800, dtype: int64\n"
     ]
    }
   ],
   "source": [
    "# separiting the data and label\n",
    "X = df['content']\n",
    "Y = df['label']\n",
    "print(X)\n",
    "print(Y)"
   ]
  },
  {
   "cell_type": "code",
   "execution_count": 17,
   "id": "2512d625",
   "metadata": {
    "execution": {
     "iopub.execute_input": "2023-11-18T12:42:58.068859Z",
     "iopub.status.busy": "2023-11-18T12:42:58.068410Z",
     "iopub.status.idle": "2023-11-18T12:42:58.896477Z",
     "shell.execute_reply": "2023-11-18T12:42:58.895569Z"
    },
    "papermill": {
     "duration": 0.846253,
     "end_time": "2023-11-18T12:42:58.899311",
     "exception": false,
     "start_time": "2023-11-18T12:42:58.053058",
     "status": "completed"
    },
    "tags": []
   },
   "outputs": [
    {
     "name": "stdout",
     "output_type": "stream",
     "text": [
      "  (0, 21557)\t0.2736369479869461\n",
      "  (0, 18009)\t0.2438301027041085\n",
      "  (0, 11974)\t0.34466883664274506\n",
      "  (0, 11617)\t0.2783091851108118\n",
      "  (0, 10495)\t0.311553446057155\n",
      "  (0, 10381)\t0.41343221816522613\n",
      "  (0, 9475)\t0.20871803491508256\n",
      "  (0, 6798)\t0.22134331972572915\n",
      "  (0, 5178)\t0.25645024223907936\n",
      "  (0, 3933)\t0.23592778464338887\n",
      "  (0, 3291)\t0.34851330509336254\n",
      "  (0, 381)\t0.25686395241555227\n",
      "  (1, 23108)\t0.2952143706864955\n",
      "  (1, 9174)\t0.18812765977413537\n",
      "  (1, 7534)\t0.6987204016565229\n",
      "  (1, 3714)\t0.18820851327454977\n",
      "  (1, 2957)\t0.37436858023248293\n",
      "  (1, 2482)\t0.3616637468521842\n",
      "  (1, 1956)\t0.2878737833766196\n",
      "  (2, 21453)\t0.41331452278016145\n",
      "  (2, 12835)\t0.4627692646157023\n",
      "  (2, 8113)\t0.3260098284202015\n",
      "  (2, 7391)\t0.6469324358467595\n",
      "  (2, 3910)\t0.30035267305096314\n",
      "  (3, 21978)\t0.23565193182482072\n",
      "  :\t:\n",
      "  (20797, 23430)\t0.08239795721216821\n",
      "  (20797, 20788)\t0.19858848268663878\n",
      "  (20797, 19961)\t0.32033450422171095\n",
      "  (20797, 17564)\t0.24595228419376997\n",
      "  (20797, 16511)\t0.2701082984026285\n",
      "  (20797, 16242)\t0.26138762441775215\n",
      "  (20797, 13686)\t0.07963596797146637\n",
      "  (20797, 12710)\t0.29268298480392924\n",
      "  (20797, 12062)\t0.35825796183079206\n",
      "  (20797, 11247)\t0.22115741003482425\n",
      "  (20797, 9530)\t0.2159705521323658\n",
      "  (20797, 4956)\t0.20977279480430666\n",
      "  (20797, 1719)\t0.33227287481144197\n",
      "  (20797, 937)\t0.30401505825124225\n",
      "  (20797, 54)\t0.29434941720236085\n",
      "  (20798, 17456)\t0.23135838404922235\n",
      "  (20798, 14719)\t0.4545605136834298\n",
      "  (20798, 13532)\t0.3274423107890453\n",
      "  (20798, 9311)\t0.331161903207525\n",
      "  (20798, 6885)\t0.4161602827826835\n",
      "  (20798, 1517)\t0.4991866119925705\n",
      "  (20798, 805)\t0.31715092612304463\n",
      "  (20799, 19781)\t0.5424505449862735\n",
      "  (20799, 10881)\t0.4393421136105601\n",
      "  (20799, 529)\t0.7160488205788069\n"
     ]
    }
   ],
   "source": [
    "# converting the textual data to numerical data\n",
    "vectorizer = TfidfVectorizer()\n",
    "vectorizer.fit(X)\n",
    "\n",
    "X = vectorizer.transform(X)\n",
    "print(X)"
   ]
  },
  {
   "cell_type": "markdown",
   "id": "65c38dd5",
   "metadata": {
    "papermill": {
     "duration": 0.014023,
     "end_time": "2023-11-18T12:42:58.927788",
     "exception": false,
     "start_time": "2023-11-18T12:42:58.913765",
     "status": "completed"
    },
    "tags": []
   },
   "source": [
    "# Splitting the dataset into train & test data"
   ]
  },
  {
   "cell_type": "code",
   "execution_count": 18,
   "id": "732a6aa8",
   "metadata": {
    "execution": {
     "iopub.execute_input": "2023-11-18T12:42:58.958833Z",
     "iopub.status.busy": "2023-11-18T12:42:58.958102Z",
     "iopub.status.idle": "2023-11-18T12:42:58.980205Z",
     "shell.execute_reply": "2023-11-18T12:42:58.978937Z"
    },
    "papermill": {
     "duration": 0.04085,
     "end_time": "2023-11-18T12:42:58.982891",
     "exception": false,
     "start_time": "2023-11-18T12:42:58.942041",
     "status": "completed"
    },
    "tags": []
   },
   "outputs": [],
   "source": [
    "X_train,X_test,Y_train,Y_test = train_test_split(X,Y,stratify=Y,test_size=0.2,random_state=2)"
   ]
  },
  {
   "cell_type": "markdown",
   "id": "2e4a85a0",
   "metadata": {
    "papermill": {
     "duration": 0.014098,
     "end_time": "2023-11-18T12:42:59.011519",
     "exception": false,
     "start_time": "2023-11-18T12:42:58.997421",
     "status": "completed"
    },
    "tags": []
   },
   "source": [
    "# Model Building & evaluation"
   ]
  },
  {
   "cell_type": "code",
   "execution_count": 19,
   "id": "2a624f83",
   "metadata": {
    "execution": {
     "iopub.execute_input": "2023-11-18T12:42:59.043190Z",
     "iopub.status.busy": "2023-11-18T12:42:59.042412Z",
     "iopub.status.idle": "2023-11-18T12:42:59.047031Z",
     "shell.execute_reply": "2023-11-18T12:42:59.046122Z"
    },
    "papermill": {
     "duration": 0.02295,
     "end_time": "2023-11-18T12:42:59.049378",
     "exception": false,
     "start_time": "2023-11-18T12:42:59.026428",
     "status": "completed"
    },
    "tags": []
   },
   "outputs": [],
   "source": [
    "model1 = RandomForestClassifier()\n",
    "model2 = LogisticRegression()"
   ]
  },
  {
   "cell_type": "code",
   "execution_count": 20,
   "id": "840e5149",
   "metadata": {
    "execution": {
     "iopub.execute_input": "2023-11-18T12:42:59.080159Z",
     "iopub.status.busy": "2023-11-18T12:42:59.079407Z",
     "iopub.status.idle": "2023-11-18T12:43:43.021851Z",
     "shell.execute_reply": "2023-11-18T12:43:43.020854Z"
    },
    "papermill": {
     "duration": 43.974371,
     "end_time": "2023-11-18T12:43:43.038056",
     "exception": false,
     "start_time": "2023-11-18T12:42:59.063685",
     "status": "completed"
    },
    "tags": []
   },
   "outputs": [
    {
     "data": {
      "text/html": [
       "<style>#sk-container-id-1 {color: black;background-color: white;}#sk-container-id-1 pre{padding: 0;}#sk-container-id-1 div.sk-toggleable {background-color: white;}#sk-container-id-1 label.sk-toggleable__label {cursor: pointer;display: block;width: 100%;margin-bottom: 0;padding: 0.3em;box-sizing: border-box;text-align: center;}#sk-container-id-1 label.sk-toggleable__label-arrow:before {content: \"▸\";float: left;margin-right: 0.25em;color: #696969;}#sk-container-id-1 label.sk-toggleable__label-arrow:hover:before {color: black;}#sk-container-id-1 div.sk-estimator:hover label.sk-toggleable__label-arrow:before {color: black;}#sk-container-id-1 div.sk-toggleable__content {max-height: 0;max-width: 0;overflow: hidden;text-align: left;background-color: #f0f8ff;}#sk-container-id-1 div.sk-toggleable__content pre {margin: 0.2em;color: black;border-radius: 0.25em;background-color: #f0f8ff;}#sk-container-id-1 input.sk-toggleable__control:checked~div.sk-toggleable__content {max-height: 200px;max-width: 100%;overflow: auto;}#sk-container-id-1 input.sk-toggleable__control:checked~label.sk-toggleable__label-arrow:before {content: \"▾\";}#sk-container-id-1 div.sk-estimator input.sk-toggleable__control:checked~label.sk-toggleable__label {background-color: #d4ebff;}#sk-container-id-1 div.sk-label input.sk-toggleable__control:checked~label.sk-toggleable__label {background-color: #d4ebff;}#sk-container-id-1 input.sk-hidden--visually {border: 0;clip: rect(1px 1px 1px 1px);clip: rect(1px, 1px, 1px, 1px);height: 1px;margin: -1px;overflow: hidden;padding: 0;position: absolute;width: 1px;}#sk-container-id-1 div.sk-estimator {font-family: monospace;background-color: #f0f8ff;border: 1px dotted black;border-radius: 0.25em;box-sizing: border-box;margin-bottom: 0.5em;}#sk-container-id-1 div.sk-estimator:hover {background-color: #d4ebff;}#sk-container-id-1 div.sk-parallel-item::after {content: \"\";width: 100%;border-bottom: 1px solid gray;flex-grow: 1;}#sk-container-id-1 div.sk-label:hover label.sk-toggleable__label {background-color: #d4ebff;}#sk-container-id-1 div.sk-serial::before {content: \"\";position: absolute;border-left: 1px solid gray;box-sizing: border-box;top: 0;bottom: 0;left: 50%;z-index: 0;}#sk-container-id-1 div.sk-serial {display: flex;flex-direction: column;align-items: center;background-color: white;padding-right: 0.2em;padding-left: 0.2em;position: relative;}#sk-container-id-1 div.sk-item {position: relative;z-index: 1;}#sk-container-id-1 div.sk-parallel {display: flex;align-items: stretch;justify-content: center;background-color: white;position: relative;}#sk-container-id-1 div.sk-item::before, #sk-container-id-1 div.sk-parallel-item::before {content: \"\";position: absolute;border-left: 1px solid gray;box-sizing: border-box;top: 0;bottom: 0;left: 50%;z-index: -1;}#sk-container-id-1 div.sk-parallel-item {display: flex;flex-direction: column;z-index: 1;position: relative;background-color: white;}#sk-container-id-1 div.sk-parallel-item:first-child::after {align-self: flex-end;width: 50%;}#sk-container-id-1 div.sk-parallel-item:last-child::after {align-self: flex-start;width: 50%;}#sk-container-id-1 div.sk-parallel-item:only-child::after {width: 0;}#sk-container-id-1 div.sk-dashed-wrapped {border: 1px dashed gray;margin: 0 0.4em 0.5em 0.4em;box-sizing: border-box;padding-bottom: 0.4em;background-color: white;}#sk-container-id-1 div.sk-label label {font-family: monospace;font-weight: bold;display: inline-block;line-height: 1.2em;}#sk-container-id-1 div.sk-label-container {text-align: center;}#sk-container-id-1 div.sk-container {/* jupyter's `normalize.less` sets `[hidden] { display: none; }` but bootstrap.min.css set `[hidden] { display: none !important; }` so we also need the `!important` here to be able to override the default hidden behavior on the sphinx rendered scikit-learn.org. See: https://github.com/scikit-learn/scikit-learn/issues/21755 */display: inline-block !important;position: relative;}#sk-container-id-1 div.sk-text-repr-fallback {display: none;}</style><div id=\"sk-container-id-1\" class=\"sk-top-container\"><div class=\"sk-text-repr-fallback\"><pre>RandomForestClassifier()</pre><b>In a Jupyter environment, please rerun this cell to show the HTML representation or trust the notebook. <br />On GitHub, the HTML representation is unable to render, please try loading this page with nbviewer.org.</b></div><div class=\"sk-container\" hidden><div class=\"sk-item\"><div class=\"sk-estimator sk-toggleable\"><input class=\"sk-toggleable__control sk-hidden--visually\" id=\"sk-estimator-id-1\" type=\"checkbox\" checked><label for=\"sk-estimator-id-1\" class=\"sk-toggleable__label sk-toggleable__label-arrow\">RandomForestClassifier</label><div class=\"sk-toggleable__content\"><pre>RandomForestClassifier()</pre></div></div></div></div></div>"
      ],
      "text/plain": [
       "RandomForestClassifier()"
      ]
     },
     "execution_count": 20,
     "metadata": {},
     "output_type": "execute_result"
    }
   ],
   "source": [
    "model1.fit(X_train,Y_train)"
   ]
  },
  {
   "cell_type": "code",
   "execution_count": 21,
   "id": "8e81c319",
   "metadata": {
    "execution": {
     "iopub.execute_input": "2023-11-18T12:43:43.070198Z",
     "iopub.status.busy": "2023-11-18T12:43:43.069443Z",
     "iopub.status.idle": "2023-11-18T12:43:43.837974Z",
     "shell.execute_reply": "2023-11-18T12:43:43.836395Z"
    },
    "papermill": {
     "duration": 0.788971,
     "end_time": "2023-11-18T12:43:43.841978",
     "exception": false,
     "start_time": "2023-11-18T12:43:43.053007",
     "status": "completed"
    },
    "tags": []
   },
   "outputs": [
    {
     "data": {
      "text/html": [
       "<style>#sk-container-id-2 {color: black;background-color: white;}#sk-container-id-2 pre{padding: 0;}#sk-container-id-2 div.sk-toggleable {background-color: white;}#sk-container-id-2 label.sk-toggleable__label {cursor: pointer;display: block;width: 100%;margin-bottom: 0;padding: 0.3em;box-sizing: border-box;text-align: center;}#sk-container-id-2 label.sk-toggleable__label-arrow:before {content: \"▸\";float: left;margin-right: 0.25em;color: #696969;}#sk-container-id-2 label.sk-toggleable__label-arrow:hover:before {color: black;}#sk-container-id-2 div.sk-estimator:hover label.sk-toggleable__label-arrow:before {color: black;}#sk-container-id-2 div.sk-toggleable__content {max-height: 0;max-width: 0;overflow: hidden;text-align: left;background-color: #f0f8ff;}#sk-container-id-2 div.sk-toggleable__content pre {margin: 0.2em;color: black;border-radius: 0.25em;background-color: #f0f8ff;}#sk-container-id-2 input.sk-toggleable__control:checked~div.sk-toggleable__content {max-height: 200px;max-width: 100%;overflow: auto;}#sk-container-id-2 input.sk-toggleable__control:checked~label.sk-toggleable__label-arrow:before {content: \"▾\";}#sk-container-id-2 div.sk-estimator input.sk-toggleable__control:checked~label.sk-toggleable__label {background-color: #d4ebff;}#sk-container-id-2 div.sk-label input.sk-toggleable__control:checked~label.sk-toggleable__label {background-color: #d4ebff;}#sk-container-id-2 input.sk-hidden--visually {border: 0;clip: rect(1px 1px 1px 1px);clip: rect(1px, 1px, 1px, 1px);height: 1px;margin: -1px;overflow: hidden;padding: 0;position: absolute;width: 1px;}#sk-container-id-2 div.sk-estimator {font-family: monospace;background-color: #f0f8ff;border: 1px dotted black;border-radius: 0.25em;box-sizing: border-box;margin-bottom: 0.5em;}#sk-container-id-2 div.sk-estimator:hover {background-color: #d4ebff;}#sk-container-id-2 div.sk-parallel-item::after {content: \"\";width: 100%;border-bottom: 1px solid gray;flex-grow: 1;}#sk-container-id-2 div.sk-label:hover label.sk-toggleable__label {background-color: #d4ebff;}#sk-container-id-2 div.sk-serial::before {content: \"\";position: absolute;border-left: 1px solid gray;box-sizing: border-box;top: 0;bottom: 0;left: 50%;z-index: 0;}#sk-container-id-2 div.sk-serial {display: flex;flex-direction: column;align-items: center;background-color: white;padding-right: 0.2em;padding-left: 0.2em;position: relative;}#sk-container-id-2 div.sk-item {position: relative;z-index: 1;}#sk-container-id-2 div.sk-parallel {display: flex;align-items: stretch;justify-content: center;background-color: white;position: relative;}#sk-container-id-2 div.sk-item::before, #sk-container-id-2 div.sk-parallel-item::before {content: \"\";position: absolute;border-left: 1px solid gray;box-sizing: border-box;top: 0;bottom: 0;left: 50%;z-index: -1;}#sk-container-id-2 div.sk-parallel-item {display: flex;flex-direction: column;z-index: 1;position: relative;background-color: white;}#sk-container-id-2 div.sk-parallel-item:first-child::after {align-self: flex-end;width: 50%;}#sk-container-id-2 div.sk-parallel-item:last-child::after {align-self: flex-start;width: 50%;}#sk-container-id-2 div.sk-parallel-item:only-child::after {width: 0;}#sk-container-id-2 div.sk-dashed-wrapped {border: 1px dashed gray;margin: 0 0.4em 0.5em 0.4em;box-sizing: border-box;padding-bottom: 0.4em;background-color: white;}#sk-container-id-2 div.sk-label label {font-family: monospace;font-weight: bold;display: inline-block;line-height: 1.2em;}#sk-container-id-2 div.sk-label-container {text-align: center;}#sk-container-id-2 div.sk-container {/* jupyter's `normalize.less` sets `[hidden] { display: none; }` but bootstrap.min.css set `[hidden] { display: none !important; }` so we also need the `!important` here to be able to override the default hidden behavior on the sphinx rendered scikit-learn.org. See: https://github.com/scikit-learn/scikit-learn/issues/21755 */display: inline-block !important;position: relative;}#sk-container-id-2 div.sk-text-repr-fallback {display: none;}</style><div id=\"sk-container-id-2\" class=\"sk-top-container\"><div class=\"sk-text-repr-fallback\"><pre>LogisticRegression()</pre><b>In a Jupyter environment, please rerun this cell to show the HTML representation or trust the notebook. <br />On GitHub, the HTML representation is unable to render, please try loading this page with nbviewer.org.</b></div><div class=\"sk-container\" hidden><div class=\"sk-item\"><div class=\"sk-estimator sk-toggleable\"><input class=\"sk-toggleable__control sk-hidden--visually\" id=\"sk-estimator-id-2\" type=\"checkbox\" checked><label for=\"sk-estimator-id-2\" class=\"sk-toggleable__label sk-toggleable__label-arrow\">LogisticRegression</label><div class=\"sk-toggleable__content\"><pre>LogisticRegression()</pre></div></div></div></div></div>"
      ],
      "text/plain": [
       "LogisticRegression()"
      ]
     },
     "execution_count": 21,
     "metadata": {},
     "output_type": "execute_result"
    }
   ],
   "source": [
    "model2.fit(X_train,Y_train)"
   ]
  },
  {
   "cell_type": "markdown",
   "id": "811870b4",
   "metadata": {
    "papermill": {
     "duration": 0.042144,
     "end_time": "2023-11-18T12:43:43.951906",
     "exception": false,
     "start_time": "2023-11-18T12:43:43.909762",
     "status": "completed"
    },
    "tags": []
   },
   "source": [
    "# prediction on training data"
   ]
  },
  {
   "cell_type": "code",
   "execution_count": 22,
   "id": "646dfa62",
   "metadata": {
    "execution": {
     "iopub.execute_input": "2023-11-18T12:43:43.983056Z",
     "iopub.status.busy": "2023-11-18T12:43:43.982662Z",
     "iopub.status.idle": "2023-11-18T12:43:45.265661Z",
     "shell.execute_reply": "2023-11-18T12:43:45.264496Z"
    },
    "papermill": {
     "duration": 1.302144,
     "end_time": "2023-11-18T12:43:45.268676",
     "exception": false,
     "start_time": "2023-11-18T12:43:43.966532",
     "status": "completed"
    },
    "tags": []
   },
   "outputs": [],
   "source": [
    "\n",
    "train_pred1 = model1.predict(X_train)\n",
    "train_pred2 = model2.predict(X_train)"
   ]
  },
  {
   "cell_type": "code",
   "execution_count": 23,
   "id": "facec59b",
   "metadata": {
    "execution": {
     "iopub.execute_input": "2023-11-18T12:43:45.300173Z",
     "iopub.status.busy": "2023-11-18T12:43:45.299700Z",
     "iopub.status.idle": "2023-11-18T12:43:45.312007Z",
     "shell.execute_reply": "2023-11-18T12:43:45.310901Z"
    },
    "papermill": {
     "duration": 0.031316,
     "end_time": "2023-11-18T12:43:45.314646",
     "exception": false,
     "start_time": "2023-11-18T12:43:45.283330",
     "status": "completed"
    },
    "tags": []
   },
   "outputs": [
    {
     "name": "stdout",
     "output_type": "stream",
     "text": [
      "accuracy score of Random Forest model on training data : 1.0\n",
      "accuracy score of Logisitic regression model on training data : 0.9825120192307693\n"
     ]
    }
   ],
   "source": [
    "print('accuracy score of Random Forest model on training data :', accuracy_score(train_pred1,Y_train))\n",
    "print('accuracy score of Logisitic regression model on training data :' ,accuracy_score(train_pred2,Y_train))"
   ]
  },
  {
   "cell_type": "markdown",
   "id": "0c6e06e9",
   "metadata": {
    "papermill": {
     "duration": 0.014611,
     "end_time": "2023-11-18T12:43:45.343945",
     "exception": false,
     "start_time": "2023-11-18T12:43:45.329334",
     "status": "completed"
    },
    "tags": []
   },
   "source": [
    "# prediction on test data"
   ]
  },
  {
   "cell_type": "code",
   "execution_count": 24,
   "id": "f3790d0d",
   "metadata": {
    "execution": {
     "iopub.execute_input": "2023-11-18T12:43:45.375607Z",
     "iopub.status.busy": "2023-11-18T12:43:45.374993Z",
     "iopub.status.idle": "2023-11-18T12:43:45.718222Z",
     "shell.execute_reply": "2023-11-18T12:43:45.717222Z"
    },
    "papermill": {
     "duration": 0.36224,
     "end_time": "2023-11-18T12:43:45.720944",
     "exception": false,
     "start_time": "2023-11-18T12:43:45.358704",
     "status": "completed"
    },
    "tags": []
   },
   "outputs": [],
   "source": [
    "test_pred1 = model1.predict(X_test)\n",
    "test_pred2 = model2.predict(X_test)"
   ]
  },
  {
   "cell_type": "code",
   "execution_count": 25,
   "id": "68f44e09",
   "metadata": {
    "execution": {
     "iopub.execute_input": "2023-11-18T12:43:45.754147Z",
     "iopub.status.busy": "2023-11-18T12:43:45.753515Z",
     "iopub.status.idle": "2023-11-18T12:43:45.761384Z",
     "shell.execute_reply": "2023-11-18T12:43:45.760356Z"
    },
    "papermill": {
     "duration": 0.027017,
     "end_time": "2023-11-18T12:43:45.763790",
     "exception": false,
     "start_time": "2023-11-18T12:43:45.736773",
     "status": "completed"
    },
    "tags": []
   },
   "outputs": [
    {
     "name": "stdout",
     "output_type": "stream",
     "text": [
      "accuracy score of Random Forest model on test data : 0.9814903846153846\n",
      "accuracy score of Logisitic regression model on test data : 0.9673076923076923\n"
     ]
    }
   ],
   "source": [
    "print('accuracy score of Random Forest model on test data :', accuracy_score(test_pred1,Y_test))\n",
    "print('accuracy score of Logisitic regression model on test data :' ,accuracy_score(test_pred2,Y_test))"
   ]
  },
  {
   "cell_type": "markdown",
   "id": "f24160de",
   "metadata": {
    "papermill": {
     "duration": 0.015018,
     "end_time": "2023-11-18T12:43:45.794013",
     "exception": false,
     "start_time": "2023-11-18T12:43:45.778995",
     "status": "completed"
    },
    "tags": []
   },
   "source": [
    "# let's try some cross val score for better prediction"
   ]
  },
  {
   "cell_type": "code",
   "execution_count": 26,
   "id": "6b7f3df5",
   "metadata": {
    "execution": {
     "iopub.execute_input": "2023-11-18T12:43:45.827292Z",
     "iopub.status.busy": "2023-11-18T12:43:45.826659Z",
     "iopub.status.idle": "2023-11-18T12:43:45.831014Z",
     "shell.execute_reply": "2023-11-18T12:43:45.829891Z"
    },
    "papermill": {
     "duration": 0.024348,
     "end_time": "2023-11-18T12:43:45.833520",
     "exception": false,
     "start_time": "2023-11-18T12:43:45.809172",
     "status": "completed"
    },
    "tags": []
   },
   "outputs": [],
   "source": [
    "models = [model1,model2]"
   ]
  },
  {
   "cell_type": "code",
   "execution_count": 27,
   "id": "4ba0553d",
   "metadata": {
    "execution": {
     "iopub.execute_input": "2023-11-18T12:43:45.866851Z",
     "iopub.status.busy": "2023-11-18T12:43:45.866131Z",
     "iopub.status.idle": "2023-11-18T12:43:45.871697Z",
     "shell.execute_reply": "2023-11-18T12:43:45.870428Z"
    },
    "papermill": {
     "duration": 0.02481,
     "end_time": "2023-11-18T12:43:45.874126",
     "exception": false,
     "start_time": "2023-11-18T12:43:45.849316",
     "status": "completed"
    },
    "tags": []
   },
   "outputs": [],
   "source": [
    "from sklearn.model_selection import cross_val_score"
   ]
  },
  {
   "cell_type": "code",
   "execution_count": 28,
   "id": "495130a4",
   "metadata": {
    "execution": {
     "iopub.execute_input": "2023-11-18T12:43:45.908007Z",
     "iopub.status.busy": "2023-11-18T12:43:45.907627Z",
     "iopub.status.idle": "2023-11-18T12:45:39.177167Z",
     "shell.execute_reply": "2023-11-18T12:45:39.175400Z"
    },
    "papermill": {
     "duration": 113.292585,
     "end_time": "2023-11-18T12:45:39.181720",
     "exception": false,
     "start_time": "2023-11-18T12:43:45.889135",
     "status": "completed"
    },
    "tags": []
   },
   "outputs": [
    {
     "name": "stdout",
     "output_type": "stream",
     "text": [
      "model: RandomForestClassifier() and its accuracy: [0.98254975 0.982403   0.98283571]\n",
      "model: LogisticRegression() and its accuracy: [0.96308047 0.96264243 0.96091158]\n"
     ]
    }
   ],
   "source": [
    "for model in models:\n",
    "    accuracy = cross_val_score(model,X,Y,cv =3,scoring = 'accuracy')\n",
    "    print('model:',model, 'and its accuracy:',accuracy)"
   ]
  },
  {
   "cell_type": "markdown",
   "id": "154be12f",
   "metadata": {
    "papermill": {
     "duration": 0.040987,
     "end_time": "2023-11-18T12:45:39.277096",
     "exception": false,
     "start_time": "2023-11-18T12:45:39.236109",
     "status": "completed"
    },
    "tags": []
   },
   "source": [
    "# Conclusion :"
   ]
  },
  {
   "cell_type": "markdown",
   "id": "9e004025",
   "metadata": {
    "papermill": {
     "duration": 0.014431,
     "end_time": "2023-11-18T12:45:39.306516",
     "exception": false,
     "start_time": "2023-11-18T12:45:39.292085",
     "status": "completed"
    },
    "tags": []
   },
   "source": [
    "successfully build model which can predict almost with 98 percent accuracy of fake data."
   ]
  }
 ],
 "metadata": {
  "kaggle": {
   "accelerator": "none",
   "dataSources": [
    {
     "datasetId": 4019490,
     "sourceId": 6993175,
     "sourceType": "datasetVersion"
    }
   ],
   "dockerImageVersionId": 30587,
   "isGpuEnabled": false,
   "isInternetEnabled": true,
   "language": "python",
   "sourceType": "notebook"
  },
  "kernelspec": {
   "display_name": "Python 3",
   "language": "python",
   "name": "python3"
  },
  "language_info": {
   "codemirror_mode": {
    "name": "ipython",
    "version": 3
   },
   "file_extension": ".py",
   "mimetype": "text/x-python",
   "name": "python",
   "nbconvert_exporter": "python",
   "pygments_lexer": "ipython3",
   "version": "3.10.12"
  },
  "papermill": {
   "default_parameters": {},
   "duration": 220.817489,
   "end_time": "2023-11-18T12:45:40.044929",
   "environment_variables": {},
   "exception": null,
   "input_path": "__notebook__.ipynb",
   "output_path": "__notebook__.ipynb",
   "parameters": {},
   "start_time": "2023-11-18T12:41:59.227440",
   "version": "2.4.0"
  }
 },
 "nbformat": 4,
 "nbformat_minor": 5
}
